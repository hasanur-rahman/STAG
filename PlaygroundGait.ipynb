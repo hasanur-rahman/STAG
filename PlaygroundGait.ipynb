{
 "cells": [
  {
   "cell_type": "code",
   "execution_count": null,
   "metadata": {},
   "outputs": [],
   "source": [
    "import requests\n",
    "def get_landmarks(destination):\n",
    "    # Replace 'YOUR_API_KEY' with your actual Google Maps API key\n",
    "    api_key = 'placeholder_api_key'\n",
    "    \n",
    "    # Make a request to the Places API to get popular landmarks\n",
    "    url = f'https://maps.googleapis.com/maps/api/place/textsearch/json?query={destination}+landmarks&key={api_key}'\n",
    "    response = requests.get(url)\n",
    "    \n",
    "    # Check if the request was successful\n",
    "    if response.status_code == 200:\n",
    "        data = response.json()\n",
    "        # Check if the request was successful\n",
    "        if response.status_code == 200:\n",
    "            data = response.json()\n",
    "            \n",
    "            # Extract the landmark names and their corresponding locations\n",
    "            landmarks = []\n",
    "            for result in data['results']:\n",
    "                name = result['name']\n",
    "                location = result['geometry']['location']\n",
    "                landmarks.append((name, location))\n",
    "            \n",
    "            # Display the landmarks with Google Map view\n",
    "            for landmark in landmarks:\n",
    "                name, location = landmark\n",
    "                print(f'Landmark: {name}')\n",
    "                print(f'Location: {location}')\n",
    "                print(f'Google Map View: https://www.google.com/maps/search/?api=1&query={location[\"lat\"]},{location[\"lng\"]}\\n')\n",
    "            \n",
    "            return landmarks, data\n",
    "        else:\n",
    "            print(f'Request to Places API failed with status code: {response.status_code}')\n",
    "            # Handle the error here\n",
    "            return None"
   ]
  },
  {
   "cell_type": "code",
   "execution_count": null,
   "metadata": {},
   "outputs": [],
   "source": [
    "# Example usage\n",
    "landmarks, data = get_landmarks('711 carriage hill, iowa city')"
   ]
  },
  {
   "cell_type": "code",
   "execution_count": null,
   "metadata": {},
   "outputs": [],
   "source": [
    "if data is not None and 'error_message' in data:\n",
    "    error_message = data['error_message']\n",
    "    \n",
    "    print(f'Error message: {error_message}')"
   ]
  },
  {
   "cell_type": "code",
   "execution_count": null,
   "metadata": {},
   "outputs": [],
   "source": [
    "import requests\n",
    "\n",
    "\n",
    "\n",
    "def get_lati_longi(api_key, address):\n",
    "\n",
    "   \n",
    "\n",
    "    url = 'https://maps.googleapis.com/maps/api/geocode/json'\n",
    "\n",
    "   \n",
    "\n",
    "    params = {\n",
    "\n",
    "        \"address\": address,\n",
    "\n",
    "        \"key\": api_key\n",
    "\n",
    "    }\n",
    "\n",
    "\n",
    "\n",
    "    response = requests.get(url, params=params)\n",
    "\n",
    "\n",
    "\n",
    "    if response.status_code == 200:\n",
    "\n",
    "        data = response.json()\n",
    "\n",
    "        if data[\"status\"] == \"OK\":\n",
    "\n",
    "            location = data[\"results\"][0][\"geometry\"][\"location\"]\n",
    "\n",
    "            lat = location[\"lat\"]\n",
    "\n",
    "            lng = location[\"lng\"]\n",
    "\n",
    "            return lat, lng\n",
    "\n",
    "        else:\n",
    "\n",
    "            print(f\"Error: {data['error_message']}\")\n",
    "\n",
    "            return 0, 0\n",
    "\n",
    "    else:\n",
    "\n",
    "        print(\"Failed to make the request.\")\n",
    "\n",
    "        return 0, 0\n",
    "\n",
    "\n",
    "\n",
    "api_key = \"placeholder_api_key\"\n",
    "\n",
    "address = '711 carriage hill, iowa city'\n",
    "\n",
    "\n",
    "\n",
    "lati, longi = get_lati_longi(api_key, address)\n",
    "\n",
    "print(f\"Latitude: {lati}\")\n",
    "\n",
    "print(f\"Longitude: {longi}\")"
   ]
  },
  {
   "cell_type": "code",
   "execution_count": null,
   "metadata": {},
   "outputs": [],
   "source": []
  },
  {
   "cell_type": "code",
   "execution_count": null,
   "metadata": {},
   "outputs": [],
   "source": [
    "import gmaps\n",
    "import gmaps.datasets\n",
    "import pandas as pd\n",
    "\n",
    "\n",
    "# Use google maps api\n",
    "gmaps.configure(api_key='placeholder_api_key')  # Fill in with your API key\n",
    "# Get the dataset\n",
    "earthquake_df = gmaps.datasets.load_dataset_as_df('earthquakes')\n",
    "# Get the locations from the data set\n",
    "locations = earthquake_df[['latitude', 'longitude']]\n",
    "# Get the magnitude from the data\n",
    "weights = earthquake_df['magnitude']\n",
    "# Set up your map\n",
    "fig = gmaps.figure()\n",
    "fig.add_layer(gmaps.heatmap_layer(locations, weights=weights))\n",
    "fig\n",
    "\n"
   ]
  },
  {
   "cell_type": "code",
   "execution_count": 2,
   "metadata": {},
   "outputs": [],
   "source": [
    "# import openai\n",
    "from elevenlabs import generate, play\n",
    "from elevenlabs import set_api_key\n",
    "import gmaps\n",
    "import requests\n",
    "import os\n",
    "import re\n",
    "import PIL.Image\n",
    "from io import BytesIO\n",
    "from IPython.display import Image\n",
    "from openai import OpenAI\n"
   ]
  },
  {
   "cell_type": "code",
   "execution_count": 3,
   "metadata": {},
   "outputs": [],
   "source": [
    "class VirtualCityExplorationModule:\n",
    "    def __init__(self, cityName, openai_key, gmaps_key, NumberofAttractions=5) -> None:\n",
    "        # self.openai_key = openai_key\n",
    "        self.gmaps_key = gmaps_key\n",
    "        self.client = OpenAI(api_key = openai_key)\n",
    "        # self.client = OpenAI()\n",
    "        gmaps.configure(api_key= gmaps_key)\n",
    "        self.city_name= cityName\n",
    "        self.numAttractions = NumberofAttractions\n",
    "\n",
    "    def generateImagePrompt(self, attractionName):\n",
    "        systemContent = 'You write image generation prompts for DALL-E 3 from the given input request. For example, if you were asked to write a prompt for an image about garden of God in Victor, Colorado, USA, you may output: Mountainous terrain with dense forests and trees, peaceful and serene, in the vicinity of garden of God of Victor, Colorado, USA. Shot on a Canon EOS R6 with a Canon RF 24-105mm f/4L IS USM Lens,, 4K film still, natural lighting, vibrant colors, crisp details, and soft shadows.'\n",
    "        userPrompt = f'I want you to write a DALL-E image generation prompt to generate an image related to {attractionName} in the town of  {self.city_name}'\n",
    "        # messages = [{'role': 'system', 'content': systemContent}, {'role': 'user', 'content': userPrompt}]\n",
    "        chatgpt_text_messages = [ {\"role\": \"system\", \"content\": systemContent}, {'role': 'user', 'content': userPrompt} ]\n",
    "\n",
    "        response = self.client.chat.completions.create(\n",
    "            model=\"gpt-3.5-turbo\",\n",
    "            messages=chatgpt_text_messages,\n",
    "            temperature=1,\n",
    "            max_tokens=300,\n",
    "            top_p=1,\n",
    "            frequency_penalty=0,\n",
    "            presence_penalty=0\n",
    "        )\n",
    "        message = response.choices[0].message.content\n",
    "        # print(message)\n",
    "        return message\n",
    "    \n",
    "    def getCityCordinates (self):\n",
    "        base_url = \"https://maps.googleapis.com/maps/api/geocode/json\"\n",
    "        params = {\n",
    "            \"address\": self.city_name,\n",
    "            \"key\": self.gmaps_key\n",
    "        }\n",
    "        response = requests.get(base_url, params=params)\n",
    "        if response.status_code == 200:\n",
    "            data = response.json()\n",
    "            if len(data['results'])>0:\n",
    "                self.cityLocation = data['results'][0]['geometry']['location']\n",
    "                print(f\"{self.city_name} locates at {self.cityLocation['lat']}, {self.cityLocation['lng']}\")\n",
    "                return self.cityLocation\n",
    "        return None, None\n",
    "    \n",
    "    def getTopAttractions(self, radius=3000, type='tourist_attraction'):\n",
    "        cityCoord = self.getCityCordinates()\n",
    "        base_url = \"https://maps.googleapis.com/maps/api/place/nearbysearch/json\"\n",
    "        params = {\n",
    "        \"location\": f\"{cityCoord['lat']},{cityCoord['lng']}\",\n",
    "        \"radius\": radius,\n",
    "        \"type\": type,\n",
    "        \"key\": self.gmaps_key\n",
    "        }\n",
    "        response = requests.get(base_url, params=params)\n",
    "        if response.status_code == 200:\n",
    "            data = response.json()\n",
    "            if 'results' in data:\n",
    "                return data['results'][:self.numAttractions]\n",
    "        return None\n",
    "    \n",
    "    def generateAttractionsImage(self):\n",
    "        self.topLocations = self.getTopAttractions()\n",
    "        self.city_map = self.VizTopLocationsInMap()\n",
    "        print(f\"there is {len(self.topLocations)} in {self.city_name}\")\n",
    "        # for attraction in self.topLocations:\n",
    "        #     print(f\"generating image for {attraction['name']}\")\n",
    "        #     imagePrompt = self.generateImagePrompt(attraction['name'])\n",
    "        #         # Generate the image\n",
    "        #     response = self.client.images.generate(\n",
    "        #         model=\"dall-e-3\",\n",
    "        #         prompt=imagePrompt,\n",
    "        #         n=1,\n",
    "        #         size=\"1024x1024\",\n",
    "        #         quality=\"hd\",\n",
    "        #         style = 'vivid'\n",
    "        #     )\n",
    "        #     # Get the image URL from the response\n",
    "        #     image_url = response.data[0].url\n",
    "        #     # Download the image\n",
    "        #     image_response = requests.get(image_url)\n",
    "\n",
    "        #     # Create the directory if it doesn't exist\n",
    "        #     if not os.path.exists(self.city_name.replace(' ', '-')):\n",
    "        #         os.makedirs(self.city_name.replace(' ', '-'))\n",
    "        #     if not os.path.exists(os.path.join(self.city_name.replace(' ', '-'), \"VirtualCityExplorationImages\")):\n",
    "        #         os.makedirs(os.path.join(self.city_name.replace(' ', '-'), \"VirtualCityExplorationImages\"))\n",
    "        #     with open(os.path.join(self.city_name.replace(' ', '-'), \"VirtualCityExplorationImages\", f\"{attraction['name']}.png\"), 'wb') as f:\n",
    "        #         f.write(image_response.content)\n",
    "\n",
    "    def VizTopLocationsInMap(self):\n",
    "        # Create the base map\n",
    "        # gmaps.configure(api_key=self.gmaps_key)\n",
    "        city_map = gmaps.figure(center=(self.cityLocation['lat'], self.cityLocation['lng']), zoom_level=12)\n",
    "\n",
    "        # Create the markers\n",
    "        markers = []\n",
    "        for location in self.topLocations:\n",
    "            marker = gmaps.Marker(\n",
    "                (location['geometry']['location']['lat'], location['geometry']['location']['lng']),\n",
    "                info_box_content=f\"Name: {location['name']}<br>Lat: {location['geometry']['location']['lat']}<br>Lng: {location['geometry']['location']['lng']}\"\n",
    "            )\n",
    "            markers.append(marker)\n",
    "\n",
    "        # Add the markers to the map\n",
    "        marker_layer = gmaps.Markers(markers=markers)\n",
    "        city_map.add_layer(marker_layer)\n",
    "\n",
    "        # Export the city map as a PNG image\n",
    "        # city_map(os.path.join(self.city_name.replace(' ', '-'), f\"{self.city_name.replace(' ', '-')}.png\"))\n",
    "\n",
    "        return city_map\n"
   ]
  },
  {
   "cell_type": "code",
   "execution_count": 4,
   "metadata": {},
   "outputs": [],
   "source": [
    "openai_key = 'placeholder_api_key'\n",
    "gmaps_key = 'placeholder_api_key'"
   ]
  },
  {
   "cell_type": "code",
   "execution_count": 5,
   "metadata": {},
   "outputs": [
    {
     "name": "stdout",
     "output_type": "stream",
     "text": [
      "\n",
      "\n",
      "Virtual City Exploration.\n",
      "Los Angeles locates at 34.0549076, -118.242643\n",
      "there is 5 in Los Angeles\n"
     ]
    }
   ],
   "source": [
    "destination = \"Los Angeles\"\n",
    "print(\"\\n\\nVirtual City Exploration.\")\n",
    "city_exploration_module = VirtualCityExplorationModule(destination, openai_key, gmaps_key, NumberofAttractions=5)\n",
    "city_exploration_module.generateAttractionsImage()"
   ]
  },
  {
   "cell_type": "code",
   "execution_count": 8,
   "metadata": {},
   "outputs": [],
   "source": [
    "city_map = city_exploration_module.city_map"
   ]
  },
  {
   "cell_type": "code",
   "execution_count": 6,
   "metadata": {},
   "outputs": [],
   "source": [
    "cityLoc = city_exploration_module.topLocations"
   ]
  },
  {
   "cell_type": "code",
   "execution_count": 7,
   "metadata": {},
   "outputs": [
    {
     "data": {
      "text/plain": [
       "'Dodger Stadium'"
      ]
     },
     "execution_count": 7,
     "metadata": {},
     "output_type": "execute_result"
    }
   ],
   "source": [
    "cityLoc[3]['name']"
   ]
  },
  {
   "cell_type": "code",
   "execution_count": 20,
   "metadata": {},
   "outputs": [
    {
     "data": {
      "text/plain": [
       "34.0637293"
      ]
     },
     "execution_count": 20,
     "metadata": {},
     "output_type": "execute_result"
    }
   ],
   "source": [
    "cityLoc[0]['geometry']['location']['lat']"
   ]
  },
  {
   "cell_type": "code",
   "execution_count": null,
   "metadata": {},
   "outputs": [],
   "source": []
  }
 ],
 "metadata": {
  "kernelspec": {
   "display_name": "dm_env_3.10",
   "language": "python",
   "name": "python3"
  },
  "language_info": {
   "codemirror_mode": {
    "name": "ipython",
    "version": 3
   },
   "file_extension": ".py",
   "mimetype": "text/x-python",
   "name": "python",
   "nbconvert_exporter": "python",
   "pygments_lexer": "ipython3",
   "version": "3.10.6"
  }
 },
 "nbformat": 4,
 "nbformat_minor": 2
}
